{
  "nbformat": 4,
  "nbformat_minor": 0,
  "metadata": {
    "colab": {
      "provenance": [],
      "gpuType": "T4",
      "authorship_tag": "ABX9TyMHKX4iCA2vkc9I/GE4wkHN",
      "include_colab_link": true
    },
    "kernelspec": {
      "name": "python3",
      "display_name": "Python 3"
    },
    "language_info": {
      "name": "python"
    },
    "accelerator": "GPU"
  },
  "cells": [
    {
      "cell_type": "markdown",
      "metadata": {
        "id": "view-in-github",
        "colab_type": "text"
      },
      "source": [
        "<a href=\"https://colab.research.google.com/github/vannsoko/.config/blob/main/main.ipynb\" target=\"_parent\"><img src=\"https://colab.research.google.com/assets/colab-badge.svg\" alt=\"Open In Colab\"/></a>"
      ]
    },
    {
      "cell_type": "code",
      "execution_count": 41,
      "metadata": {
        "id": "HP9KlN4z6Iay"
      },
      "outputs": [],
      "source": [
        "import torch\n",
        "from torch import nn\n",
        "from torchvision import datasets, transforms"
      ]
    },
    {
      "cell_type": "code",
      "source": [
        "device = torch.device(\"cuda\" if torch.cuda.is_available() else \"cpu\")"
      ],
      "metadata": {
        "id": "jykbSpfX7iOD"
      },
      "execution_count": 42,
      "outputs": []
    },
    {
      "cell_type": "code",
      "source": [
        "transform = transforms.Compose([\n",
        "    transforms.ToTensor(),  # Converts PIL Image to tensor (C x H x W)\n",
        "])\n",
        "\n",
        "# Load the MNIST dataset\n",
        "train_dataset = datasets.MNIST(\n",
        "    root='./data',          # Directory to store the dataset\n",
        "    train=True,             # Load the training set\n",
        "    download=True,          # Download if not available\n",
        "    transform=transform,    # Apply the transform\n",
        ")\n",
        "test_dataset = datasets.MNIST(\n",
        "    root='./data',\n",
        "    train=False,\n",
        "    download=True,\n",
        "    transform=transform,\n",
        ")"
      ],
      "metadata": {
        "id": "r4EH1Wpvtu6t"
      },
      "execution_count": 43,
      "outputs": []
    },
    {
      "cell_type": "code",
      "source": [
        "class MNIST(nn.Module):\n",
        "  def __init__(self):\n",
        "    super(MNIST, self).__init__()\n",
        "    self.flatten = nn.Flatten()\n",
        "    self.linear_rellu_stack = nn.Sequential(\n",
        "        nn.Linear(28*28, 256),\n",
        "        nn.ReLU(),\n",
        "        nn.Linear(256, 128),\n",
        "        nn.ReLU(),\n",
        "        nn.Linear(128, 10),\n",
        "    )\n",
        "    self.softmax = nn.Softmax(dim=1)\n",
        "\n",
        "\n",
        "  def forward(self, x):\n",
        "    x = self.flatten(x)\n",
        "    logits = self.linear_rellu_stack(x)\n",
        "    return self.softmax(logits)"
      ],
      "metadata": {
        "id": "SNYELj2Uou6B"
      },
      "execution_count": 44,
      "outputs": []
    },
    {
      "cell_type": "code",
      "source": [
        "model = MNIST().to(device)\n",
        "\n",
        "# Loss function\n",
        "criterion = nn.CrossEntropyLoss()\n",
        "optimiser = torch.optim.Adam(model.parameters(), lr=0.001)"
      ],
      "metadata": {
        "id": "2A-4OQOeurOA"
      },
      "execution_count": 45,
      "outputs": []
    },
    {
      "cell_type": "code",
      "source": [
        "image, label = train_dataset[0]\n",
        "label = torch.tensor(label).to(device)\n",
        "label\n"
      ],
      "metadata": {
        "colab": {
          "base_uri": "https://localhost:8080/"
        },
        "id": "ToNJCAPFxrmG",
        "outputId": "842641fc-491a-4df2-8414-c99fcd3a971d"
      },
      "execution_count": 50,
      "outputs": [
        {
          "output_type": "execute_result",
          "data": {
            "text/plain": [
              "tensor(5, device='cuda:0')"
            ]
          },
          "metadata": {},
          "execution_count": 50
        }
      ]
    },
    {
      "cell_type": "code",
      "metadata": {
        "id": "1cdc1687"
      },
      "source": [
        "from torch.utils.data import DataLoader\n",
        "\n",
        "batch_size = 64\n",
        "\n",
        "train_loader = DataLoader(train_dataset, batch_size=batch_size, shuffle=True)\n",
        "test_loader = DataLoader(test_dataset, batch_size=batch_size, shuffle=False)"
      ],
      "execution_count": 52,
      "outputs": []
    },
    {
      "cell_type": "code",
      "metadata": {
        "colab": {
          "base_uri": "https://localhost:8080/"
        },
        "id": "35b99b25",
        "outputId": "62825b28-192a-402b-8e4c-2c1dc0466f94"
      },
      "source": [
        "num_epochs = 10\n",
        "\n",
        "for epoch in range(num_epochs):\n",
        "  for images, labels in train_loader:\n",
        "    # Move tensors to the configured device\n",
        "    images = images.to(device)\n",
        "    labels = labels.to(device)\n",
        "\n",
        "    # Forward pass\n",
        "    outputs = model(images)\n",
        "    loss = criterion(outputs, labels)\n",
        "\n",
        "    # Backward pass and optimisation\n",
        "    optimiser.zero_grad()\n",
        "    loss.backward()\n",
        "    optimiser.step()\n",
        "  print(f'Epoch [{epoch+1}/{num_epochs}], Loss: {loss.item():.4f}')"
      ],
      "execution_count": 53,
      "outputs": [
        {
          "output_type": "stream",
          "name": "stdout",
          "text": [
            "Epoch [1/10], Loss: 1.5266\n",
            "Epoch [2/10], Loss: 1.4617\n",
            "Epoch [3/10], Loss: 1.4911\n",
            "Epoch [4/10], Loss: 1.5023\n",
            "Epoch [5/10], Loss: 1.5479\n",
            "Epoch [6/10], Loss: 1.4806\n",
            "Epoch [7/10], Loss: 1.4612\n",
            "Epoch [8/10], Loss: 1.5189\n",
            "Epoch [9/10], Loss: 1.5235\n",
            "Epoch [10/10], Loss: 1.4628\n"
          ]
        }
      ]
    },
    {
      "cell_type": "code",
      "source": [
        "image, true_label = test_dataset[7]\n",
        "\n",
        "counter = 0\n",
        "correct = 0\n",
        "model.eval()\n",
        "with torch.no_grad():\n",
        "  for image, true_label in test_dataset:\n",
        "    image = image.unsqueeze(0).to(device)\n",
        "    output = model(image)\n",
        "    predicted_label = torch.argmax(output, dim=1).item()\n",
        "    if true_label==predicted_label:\n",
        "      correct += 1\n",
        "    counter += 1\n",
        "\n",
        "print(f\"{correct=}, {counter=}\")\n",
        "print(f\"{100*correct/counter}%\")\n"
      ],
      "metadata": {
        "colab": {
          "base_uri": "https://localhost:8080/"
        },
        "id": "0KvPi-ZAwjR-",
        "outputId": "97d82a12-1fe0-489b-b4b7-59563bbd4570"
      },
      "execution_count": 65,
      "outputs": [
        {
          "output_type": "stream",
          "name": "stdout",
          "text": [
            "correct=9760, counter=10000\n",
            "97.6%\n"
          ]
        }
      ]
    },
    {
      "cell_type": "code",
      "source": [
        "import matplotlib.pyplot as plt\n",
        "\n",
        "image, label = test_dataset[7]\n",
        "plt.imshow(image.squeeze(), cmap='gray')\n",
        "plt.title(f\"True Label: {label}\")\n",
        "plt.show()"
      ],
      "metadata": {
        "colab": {
          "base_uri": "https://localhost:8080/",
          "height": 452
        },
        "id": "rx2YT7_dzE-t",
        "outputId": "ed36bbec-7399-4cb4-e758-61b7317551df"
      },
      "execution_count": 60,
      "outputs": [
        {
          "output_type": "display_data",
          "data": {
            "text/plain": [
              "<Figure size 640x480 with 1 Axes>"
            ],
            "image/png": "[encoded data removed]"
          },
          "metadata": {}
        }
      ]
    }
  ]
}